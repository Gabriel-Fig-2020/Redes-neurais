{
  "nbformat": 4,
  "nbformat_minor": 0,
  "metadata": {
    "kernelspec": {
      "language": "python",
      "display_name": "Python 3",
      "name": "python3"
    },
    "language_info": {
      "pygments_lexer": "ipython3",
      "nbconvert_exporter": "python",
      "version": "3.6.4",
      "file_extension": ".py",
      "codemirror_mode": {
        "name": "ipython",
        "version": 3
      },
      "name": "python",
      "mimetype": "text/x-python"
    },
    "colab": {
      "name": "teste2",
      "provenance": [],
      "collapsed_sections": [],
      "toc_visible": true
    }
  },
  "cells": [
    {
      "cell_type": "markdown",
      "metadata": {
        "id": "pvNfyTARjNQi"
      },
      "source": [
        "# EPC REDES DE KOHONEN"
      ]
    },
    {
      "cell_type": "code",
      "metadata": {
        "_uuid": "8f2839f25d086af736a60e9eeb907d3b93b6e0e5",
        "_cell_guid": "b1076dfc-b9ad-4769-8c92-a6c4dae69d19",
        "trusted": true,
        "id": "QB_HVrOSjNQk"
      },
      "source": [
        "import math \n",
        "from tqdm.notebook import tqdm \n",
        "import matplotlib.pyplot as plt \n",
        "import numpy as np \n",
        "import pandas as pd"
      ],
      "execution_count": 1,
      "outputs": []
    },
    {
      "cell_type": "markdown",
      "metadata": {
        "id": "wkopDgMAjNQl"
      },
      "source": [
        "#PREPARA DADOS - REFERENCIA https://www.inblog.in/Self-Organising-Maps-From-Scratch-7dSqjEKy9h"
      ]
    },
    {
      "cell_type": "code",
      "metadata": {
        "id": "BUQdNlwIjbn2"
      },
      "source": [
        "#Importando os dados\n",
        "dados=pd.read_excel('dados_EPC09.xls')    "
      ],
      "execution_count": 78,
      "outputs": []
    },
    {
      "cell_type": "code",
      "metadata": {
        "colab": {
          "base_uri": "https://localhost:8080/",
          "height": 335
        },
        "id": "Hpby8cVvjfjv",
        "outputId": "9a903a18-daf4-4610-eaf1-64e76cc1f8ef"
      },
      "source": [
        "#Visualiando os 10 primeiros dados\n",
        "dados.head(10)"
      ],
      "execution_count": 79,
      "outputs": [
        {
          "output_type": "execute_result",
          "data": {
            "text/html": [
              "<div>\n",
              "<style scoped>\n",
              "    .dataframe tbody tr th:only-of-type {\n",
              "        vertical-align: middle;\n",
              "    }\n",
              "\n",
              "    .dataframe tbody tr th {\n",
              "        vertical-align: top;\n",
              "    }\n",
              "\n",
              "    .dataframe thead th {\n",
              "        text-align: right;\n",
              "    }\n",
              "</style>\n",
              "<table border=\"1\" class=\"dataframe\">\n",
              "  <thead>\n",
              "    <tr style=\"text-align: right;\">\n",
              "      <th></th>\n",
              "      <th>x1</th>\n",
              "      <th>x2</th>\n",
              "      <th>x3</th>\n",
              "      <th>TIPO</th>\n",
              "    </tr>\n",
              "  </thead>\n",
              "  <tbody>\n",
              "    <tr>\n",
              "      <th>0</th>\n",
              "      <td>0.2417</td>\n",
              "      <td>0.2857</td>\n",
              "      <td>0.2397</td>\n",
              "      <td>A</td>\n",
              "    </tr>\n",
              "    <tr>\n",
              "      <th>1</th>\n",
              "      <td>0.2268</td>\n",
              "      <td>0.2874</td>\n",
              "      <td>0.2153</td>\n",
              "      <td>A</td>\n",
              "    </tr>\n",
              "    <tr>\n",
              "      <th>2</th>\n",
              "      <td>0.1975</td>\n",
              "      <td>0.3315</td>\n",
              "      <td>0.1965</td>\n",
              "      <td>A</td>\n",
              "    </tr>\n",
              "    <tr>\n",
              "      <th>3</th>\n",
              "      <td>0.3414</td>\n",
              "      <td>0.3166</td>\n",
              "      <td>0.1074</td>\n",
              "      <td>A</td>\n",
              "    </tr>\n",
              "    <tr>\n",
              "      <th>4</th>\n",
              "      <td>0.2587</td>\n",
              "      <td>0.1918</td>\n",
              "      <td>0.2634</td>\n",
              "      <td>A</td>\n",
              "    </tr>\n",
              "    <tr>\n",
              "      <th>5</th>\n",
              "      <td>0.2455</td>\n",
              "      <td>0.2075</td>\n",
              "      <td>0.1344</td>\n",
              "      <td>A</td>\n",
              "    </tr>\n",
              "    <tr>\n",
              "      <th>6</th>\n",
              "      <td>0.3163</td>\n",
              "      <td>0.1679</td>\n",
              "      <td>0.1725</td>\n",
              "      <td>A</td>\n",
              "    </tr>\n",
              "    <tr>\n",
              "      <th>7</th>\n",
              "      <td>0.2704</td>\n",
              "      <td>0.2605</td>\n",
              "      <td>0.1411</td>\n",
              "      <td>A</td>\n",
              "    </tr>\n",
              "    <tr>\n",
              "      <th>8</th>\n",
              "      <td>0.1871</td>\n",
              "      <td>0.2965</td>\n",
              "      <td>0.1231</td>\n",
              "      <td>A</td>\n",
              "    </tr>\n",
              "    <tr>\n",
              "      <th>9</th>\n",
              "      <td>0.3474</td>\n",
              "      <td>0.2715</td>\n",
              "      <td>0.1958</td>\n",
              "      <td>A</td>\n",
              "    </tr>\n",
              "  </tbody>\n",
              "</table>\n",
              "</div>"
            ],
            "text/plain": [
              "       x1      x2      x3 TIPO\n",
              "0  0.2417  0.2857  0.2397    A\n",
              "1  0.2268  0.2874  0.2153    A\n",
              "2  0.1975  0.3315  0.1965    A\n",
              "3  0.3414  0.3166  0.1074    A\n",
              "4  0.2587  0.1918  0.2634    A\n",
              "5  0.2455  0.2075  0.1344    A\n",
              "6  0.3163  0.1679  0.1725    A\n",
              "7  0.2704  0.2605  0.1411    A\n",
              "8  0.1871  0.2965  0.1231    A\n",
              "9  0.3474  0.2715  0.1958    A"
            ]
          },
          "metadata": {
            "tags": []
          },
          "execution_count": 79
        }
      ]
    },
    {
      "cell_type": "code",
      "metadata": {
        "id": "RNXU00T7jmb6"
      },
      "source": [
        "dados_input= dados.drop([\"TIPO\"], axis=1)  #TIRA CATEGORIA\n",
        "valoresEntrada=np.array(dados_input) #PASSA PARA MATRIZ NP ARRAY\n",
        "valoresEntrada.shape #VERIFICA TAMANHO\n",
        "data=valoresEntrada #VARIVEL USADA"
      ],
      "execution_count": 80,
      "outputs": []
    },
    {
      "cell_type": "code",
      "metadata": {
        "trusted": true,
        "colab": {
          "base_uri": "https://localhost:8080/",
          "height": 531
        },
        "id": "PRm9o1dmjNQl",
        "outputId": "c19a751d-696c-49bc-f9ac-802ef7ac9834"
      },
      "source": [
        "#Visualização dos dados\n",
        "plt.figure(figsize=(8, 8))\n",
        "plt.plot(valoresEntrada, 'bo')"
      ],
      "execution_count": 81,
      "outputs": [
        {
          "output_type": "execute_result",
          "data": {
            "text/plain": [
              "[<matplotlib.lines.Line2D at 0x7f0f4600ac50>,\n",
              " <matplotlib.lines.Line2D at 0x7f0f4600ad30>,\n",
              " <matplotlib.lines.Line2D at 0x7f0f4600ae80>]"
            ]
          },
          "metadata": {
            "tags": []
          },
          "execution_count": 81
        },
        {
          "output_type": "display_data",
          "data": {
            "image/png": "[encoded data removed]",
            "text/plain": [
              "<Figure size 576x576 with 1 Axes>"
            ]
          },
          "metadata": {
            "tags": [],
            "needs_background": "light"
          }
        }
      ]
    },
    {
      "cell_type": "code",
      "metadata": {
        "id": "j3Xk6IciuklJ"
      },
      "source": [
        "raw_data=data\n",
        "# raw_data"
      ],
      "execution_count": null,
      "outputs": []
    },
    {
      "cell_type": "code",
      "metadata": {
        "id": "HPv7fsg6uqIo"
      },
      "source": [
        "n_iter=2000 #NÚMERO DE ITERAÇÕES\n",
        "init_learning_rate=0.01 #TAXA DE APRENDIZADO\n",
        "m=raw_data.shape[0] #TAMANHO LARGURA\n",
        "n=raw_data.shape[1] # TAMANHO ALTURA"
      ],
      "execution_count": 83,
      "outputs": []
    },
    {
      "cell_type": "code",
      "metadata": {
        "id": "7pJJb63Lu-DE"
      },
      "source": [
        "TAM_MAPA=np.array([4,4]) #TAMANHO DO MAPA - 16 NEURÔNIOS\n",
        "net=np.random.random((TAM_MAPA[0],TAM_MAPA[1],n)) #REDE KOHONEN PESOS\n",
        "RAIO=max(TAM_MAPA[0],TAM_MAPA[1])/2 #RAIO INICIAL\n",
        "TEMPO=n_iter/np.log(RAIO) #TEMPO DE DECAIMENTO LR"
      ],
      "execution_count": 108,
      "outputs": []
    },
    {
      "cell_type": "code",
      "metadata": {
        "id": "RIsgxU1ly2o3"
      },
      "source": [
        "# raw_data/raw_data.max(axis=0)"
      ],
      "execution_count": null,
      "outputs": []
    },
    {
      "cell_type": "code",
      "metadata": {
        "id": "2_9NzD35vCPK"
      },
      "source": [
        "#FUNÇÃO PARA NORMALIZAR OS DADOS USANDO O MAIOR VALOR DOS DADOS\n",
        "def normalize_data(raw_data, modo):\n",
        "    if modo=='coluna':\n",
        "        col_max=raw_data.max(axis=0)\n",
        "        data=raw_data/col_max\n",
        "        return data\n",
        "    else:\n",
        "        data=raw_data/data.max()\n",
        "        return data"
      ],
      "execution_count": 86,
      "outputs": []
    },
    {
      "cell_type": "code",
      "metadata": {
        "id": "3KHwc0ZmyBiK"
      },
      "source": [
        "data=normalize_data(raw_data, modo='coluna')#NORMALIZA DADOS USANDO FUNÇÃO ACIMA\n",
        "# print(data)"
      ],
      "execution_count": null,
      "outputs": []
    },
    {
      "cell_type": "code",
      "metadata": {
        "id": "t_hw7V-pvFpr"
      },
      "source": [
        "def DECAIMENTO_RAIO(RAIO,i,TEMPO): #DECAIMENTO DO RAIO CONFORME ITERAÇÕES\n",
        "    return RAIO*np.exp(-i/TEMPO)\n",
        "def DECAIMENTO_LR(init_learning_rate,i,n_iter): # DECAIMENTO TAXA DE APRENDIZADO\n",
        "    return init_learning_rate* np.exp(-i/n_iter)\n",
        "def FUN_H(distance,RAIO): # DECAIMENTO INFLUENCIA DA VIZINHANÇA - h(X)\n",
        "    return np.exp(-distance/(2*(RAIO**2)))"
      ],
      "execution_count": 88,
      "outputs": []
    },
    {
      "cell_type": "code",
      "metadata": {
        "id": "RjmRJ4-bwXCE"
      },
      "source": [
        "def eucl_dist(x,y): #CALCULO DA DISTANCIA EUCLIDIANA\n",
        "    return np.sqrt(np.sum((x-y)**2))\n",
        "def WINNER(t,net):\n",
        "    min_dist=1000000 #SETA MINIMA DISTÂNCIA PARA VALOR ALTO/INFINITO\n",
        "    for x in range(net.shape[0]): #PERCORRE LINHA NEURONIOS\n",
        "        for y in range(net.shape[1]): #PERCORRE COLUNA NEURONIOS\n",
        "            unit=net[x,y].reshape(1,-1) #MODIFICA FORMATO PARA 1 COLUNA\n",
        "            t=t.reshape(1,-1) #MODIFICA FORMATO PARA 1 COLUNA\n",
        "            euc_dist=eucl_dist(unit,t) #CALCULA DISTANCIA\n",
        "            if euc_dist < min_dist: #ACHA MINIMA DISTANCIA ENTRE DADO E NEURONIOS\n",
        "                min_dist=euc_dist #PARA COMPARAR\n",
        "                POS_WIN=net[x,y] \n",
        "                INDICE_idx=np.array([x,y])\n",
        "    return (POS_WIN,INDICE)            #RESULTADO RETORNADO"
      ],
      "execution_count": 89,
      "outputs": []
    },
    {
      "cell_type": "code",
      "metadata": {
        "id": "yNPPZ_LrwmqV"
      },
      "source": [
        "for i in range(n_iter):\n",
        " t=data[np.random.randint(0,m),:] #SELECIONA UM VALOR PARA TREINO RANDOMICO\n",
        " r=DECAIMENTO_RAIO(RAIO,i,TEMPO) # DIMINUI RAIO DA VIZINHANÇA\n",
        " l=DECAIMENTO_LR(init_learning_rate,i,n_iter) #DIMINUI LEARNING RATE\n",
        " _,INDICE=WINNER(t,net) #DETERMINA NEURONIO VENCEDOR\n",
        " for x in range(net.shape[0]): #LOOP LINHA\n",
        "    for y in range(net.shape[1]):#LOOP COLUNA\n",
        "        w=net[x,y].reshape(1,n) #MODIFICA FORMATO PARA UMA LINHA\n",
        "        w_dist=eucl_dist(np.array([[x,y]]),INDICE.reshape(1,2)) #CALCULA DISTANCIA DE W\n",
        "        if w_dist<=r: #ATUALIZA PARAMETROS SE NECESSARIO\n",
        "            influence=FUN_H(w_dist,r) #INFLUENCIA VIZ.\n",
        "            new_w=w+(l*influence*(t.reshape(1,-1)-w)) # PESOS\n",
        "            net[x,y]=new_w.reshape(1,3) #REDE W"
      ],
      "execution_count": 90,
      "outputs": []
    },
    {
      "cell_type": "code",
      "metadata": {
        "colab": {
          "base_uri": "https://localhost:8080/",
          "height": 390
        },
        "id": "SK4cYfrjwqP3",
        "outputId": "643628a1-51e5-48ba-c7d0-21ba7f159a39"
      },
      "source": [
        "#VISUALIZAÇÃO\n",
        "import matplotlib.pyplot as plt\n",
        "%matplotlib inline\n",
        "from matplotlib import patches\n",
        "fig=plt.figure(figsize=(6,6))\n",
        "ax=fig.add_subplot(111,aspect=\"equal\")\n",
        "ax.set_xlim((0,net.shape[0]+1))\n",
        "ax.set_ylim((0,net.shape[1]+1))\n",
        "ax.set_title(\"MAPA AUTO ORGANIZAVEL\")\n",
        "for x in range(1,net.shape[0]+1):\n",
        "    for y in range(1,net.shape[1]+1):\n",
        "        ax.add_patch(patches.Rectangle((x-0.5,y-0.5),1,1,facecolor=net[x-1,y-1,:],edgecolor=\"black\"))\n",
        "plt.show()"
      ],
      "execution_count": 91,
      "outputs": [
        {
          "output_type": "display_data",
          "data": {
            "image/png": "[encoded data removed]",
            "text/plain": [
              "<Figure size 432x432 with 1 Axes>"
            ]
          },
          "metadata": {
            "tags": [],
            "needs_background": "light"
          }
        }
      ]
    },
    {
      "cell_type": "code",
      "metadata": {
        "id": "-gO9qtTqzrqy"
      },
      "source": [
        "teste=pd.read_csv(\"test.csv\", header=None)\n",
        "teste=np.array(teste)"
      ],
      "execution_count": 97,
      "outputs": []
    },
    {
      "cell_type": "code",
      "metadata": {
        "colab": {
          "base_uri": "https://localhost:8080/",
          "height": 391
        },
        "id": "HigIOLvv4-0T",
        "outputId": "480d5be7-b930-4978-ca68-292850b2ede3"
      },
      "source": [
        "dados"
      ],
      "execution_count": 100,
      "outputs": [
        {
          "output_type": "execute_result",
          "data": {
            "text/html": [
              "<div>\n",
              "<style scoped>\n",
              "    .dataframe tbody tr th:only-of-type {\n",
              "        vertical-align: middle;\n",
              "    }\n",
              "\n",
              "    .dataframe tbody tr th {\n",
              "        vertical-align: top;\n",
              "    }\n",
              "\n",
              "    .dataframe thead th {\n",
              "        text-align: right;\n",
              "    }\n",
              "</style>\n",
              "<table border=\"1\" class=\"dataframe\">\n",
              "  <thead>\n",
              "    <tr style=\"text-align: right;\">\n",
              "      <th></th>\n",
              "      <th>x1</th>\n",
              "      <th>x2</th>\n",
              "      <th>x3</th>\n",
              "      <th>TIPO</th>\n",
              "    </tr>\n",
              "  </thead>\n",
              "  <tbody>\n",
              "    <tr>\n",
              "      <th>0</th>\n",
              "      <td>0.2417</td>\n",
              "      <td>0.2857</td>\n",
              "      <td>0.2397</td>\n",
              "      <td>A</td>\n",
              "    </tr>\n",
              "    <tr>\n",
              "      <th>1</th>\n",
              "      <td>0.2268</td>\n",
              "      <td>0.2874</td>\n",
              "      <td>0.2153</td>\n",
              "      <td>A</td>\n",
              "    </tr>\n",
              "    <tr>\n",
              "      <th>2</th>\n",
              "      <td>0.1975</td>\n",
              "      <td>0.3315</td>\n",
              "      <td>0.1965</td>\n",
              "      <td>A</td>\n",
              "    </tr>\n",
              "    <tr>\n",
              "      <th>3</th>\n",
              "      <td>0.3414</td>\n",
              "      <td>0.3166</td>\n",
              "      <td>0.1074</td>\n",
              "      <td>A</td>\n",
              "    </tr>\n",
              "    <tr>\n",
              "      <th>4</th>\n",
              "      <td>0.2587</td>\n",
              "      <td>0.1918</td>\n",
              "      <td>0.2634</td>\n",
              "      <td>A</td>\n",
              "    </tr>\n",
              "    <tr>\n",
              "      <th>...</th>\n",
              "      <td>...</td>\n",
              "      <td>...</td>\n",
              "      <td>...</td>\n",
              "      <td>...</td>\n",
              "    </tr>\n",
              "    <tr>\n",
              "      <th>115</th>\n",
              "      <td>0.5349</td>\n",
              "      <td>0.6736</td>\n",
              "      <td>0.4541</td>\n",
              "      <td>C</td>\n",
              "    </tr>\n",
              "    <tr>\n",
              "      <th>116</th>\n",
              "      <td>0.5569</td>\n",
              "      <td>0.8393</td>\n",
              "      <td>0.5652</td>\n",
              "      <td>C</td>\n",
              "    </tr>\n",
              "    <tr>\n",
              "      <th>117</th>\n",
              "      <td>0.4729</td>\n",
              "      <td>0.7702</td>\n",
              "      <td>0.5325</td>\n",
              "      <td>C</td>\n",
              "    </tr>\n",
              "    <tr>\n",
              "      <th>118</th>\n",
              "      <td>0.5472</td>\n",
              "      <td>0.8454</td>\n",
              "      <td>0.5449</td>\n",
              "      <td>C</td>\n",
              "    </tr>\n",
              "    <tr>\n",
              "      <th>119</th>\n",
              "      <td>0.5805</td>\n",
              "      <td>0.7349</td>\n",
              "      <td>0.4464</td>\n",
              "      <td>C</td>\n",
              "    </tr>\n",
              "  </tbody>\n",
              "</table>\n",
              "<p>120 rows × 4 columns</p>\n",
              "</div>"
            ],
            "text/plain": [
              "         x1      x2      x3 TIPO\n",
              "0    0.2417  0.2857  0.2397    A\n",
              "1    0.2268  0.2874  0.2153    A\n",
              "2    0.1975  0.3315  0.1965    A\n",
              "3    0.3414  0.3166  0.1074    A\n",
              "4    0.2587  0.1918  0.2634    A\n",
              "..      ...     ...     ...  ...\n",
              "115  0.5349  0.6736  0.4541    C\n",
              "116  0.5569  0.8393  0.5652    C\n",
              "117  0.4729  0.7702  0.5325    C\n",
              "118  0.5472  0.8454  0.5449    C\n",
              "119  0.5805  0.7349  0.4464    C\n",
              "\n",
              "[120 rows x 4 columns]"
            ]
          },
          "metadata": {
            "tags": []
          },
          "execution_count": 100
        }
      ]
    },
    {
      "cell_type": "markdown",
      "metadata": {
        "id": "n5t92kCiAGSq"
      },
      "source": [
        "# Python começa contar do zero"
      ]
    },
    {
      "cell_type": "code",
      "metadata": {
        "colab": {
          "base_uri": "https://localhost:8080/",
          "height": 0
        },
        "id": "nRe65w005IIs",
        "outputId": "2a6b2159-accd-4aee-be50-5ad57df1d71c"
      },
      "source": [
        "#DADOS DE TREINO PARA SABER INFLUÊNCIA DOS NEURÔNIOS\n",
        "map_treino = np.array(dados)\n",
        "for i in range(len(map_treino)):\n",
        "  exemplo=map_treino[i,:3]\n",
        "  _, resultado = WINNER(exemplo,net)\n",
        "\n",
        "  print(\" Amostra \" + str(i) + \" Neuronio \" + str(resultado) + \" Classe \" + str(map_treino[i,3]))\n"
      ],
      "execution_count": 107,
      "outputs": [
        {
          "output_type": "stream",
          "text": [
            " Amostra 0 Neuronio [0 0] Classe A\n",
            " Amostra 1 Neuronio [0 0] Classe A\n",
            " Amostra 2 Neuronio [0 0] Classe A\n",
            " Amostra 3 Neuronio [0 0] Classe A\n",
            " Amostra 4 Neuronio [0 0] Classe A\n",
            " Amostra 5 Neuronio [0 0] Classe A\n",
            " Amostra 6 Neuronio [0 0] Classe A\n",
            " Amostra 7 Neuronio [0 0] Classe A\n",
            " Amostra 8 Neuronio [0 0] Classe A\n",
            " Amostra 9 Neuronio [0 0] Classe A\n",
            " Amostra 10 Neuronio [0 0] Classe A\n",
            " Amostra 11 Neuronio [0 0] Classe A\n",
            " Amostra 12 Neuronio [0 0] Classe A\n",
            " Amostra 13 Neuronio [0 0] Classe A\n",
            " Amostra 14 Neuronio [0 0] Classe A\n",
            " Amostra 15 Neuronio [0 0] Classe A\n",
            " Amostra 16 Neuronio [0 0] Classe A\n",
            " Amostra 17 Neuronio [0 0] Classe A\n",
            " Amostra 18 Neuronio [0 0] Classe A\n",
            " Amostra 19 Neuronio [0 0] Classe B\n",
            " Amostra 20 Neuronio [1 2] Classe B\n",
            " Amostra 21 Neuronio [0 2] Classe B\n",
            " Amostra 22 Neuronio [0 2] Classe B\n",
            " Amostra 23 Neuronio [0 2] Classe B\n",
            " Amostra 24 Neuronio [0 2] Classe B\n",
            " Amostra 25 Neuronio [0 2] Classe B\n",
            " Amostra 26 Neuronio [0 2] Classe B\n",
            " Amostra 27 Neuronio [1 2] Classe B\n",
            " Amostra 28 Neuronio [1 2] Classe B\n",
            " Amostra 29 Neuronio [0 2] Classe B\n",
            " Amostra 30 Neuronio [1 2] Classe B\n",
            " Amostra 31 Neuronio [1 2] Classe B\n",
            " Amostra 32 Neuronio [1 2] Classe B\n",
            " Amostra 33 Neuronio [1 2] Classe B\n",
            " Amostra 34 Neuronio [1 2] Classe B\n",
            " Amostra 35 Neuronio [1 2] Classe B\n",
            " Amostra 36 Neuronio [1 2] Classe B\n",
            " Amostra 37 Neuronio [0 2] Classe B\n",
            " Amostra 38 Neuronio [0 2] Classe B\n",
            " Amostra 39 Neuronio [1 2] Classe B\n",
            " Amostra 40 Neuronio [1 2] Classe B\n",
            " Amostra 41 Neuronio [0 2] Classe B\n",
            " Amostra 42 Neuronio [1 2] Classe B\n",
            " Amostra 43 Neuronio [0 2] Classe B\n",
            " Amostra 44 Neuronio [0 2] Classe B\n",
            " Amostra 45 Neuronio [1 2] Classe B\n",
            " Amostra 46 Neuronio [0 2] Classe B\n",
            " Amostra 47 Neuronio [1 2] Classe B\n",
            " Amostra 48 Neuronio [0 2] Classe B\n",
            " Amostra 49 Neuronio [0 2] Classe B\n",
            " Amostra 50 Neuronio [0 2] Classe B\n",
            " Amostra 51 Neuronio [1 2] Classe B\n",
            " Amostra 52 Neuronio [0 2] Classe B\n",
            " Amostra 53 Neuronio [0 2] Classe B\n",
            " Amostra 54 Neuronio [0 2] Classe B\n",
            " Amostra 55 Neuronio [1 2] Classe B\n",
            " Amostra 56 Neuronio [0 2] Classe B\n",
            " Amostra 57 Neuronio [0 2] Classe B\n",
            " Amostra 58 Neuronio [1 2] Classe B\n",
            " Amostra 59 Neuronio [1 2] Classe C\n",
            " Amostra 60 Neuronio [1 0] Classe C\n",
            " Amostra 61 Neuronio [2 0] Classe C\n",
            " Amostra 62 Neuronio [2 1] Classe C\n",
            " Amostra 63 Neuronio [2 0] Classe C\n",
            " Amostra 64 Neuronio [1 1] Classe C\n",
            " Amostra 65 Neuronio [1 1] Classe C\n",
            " Amostra 66 Neuronio [1 1] Classe C\n",
            " Amostra 67 Neuronio [1 1] Classe C\n",
            " Amostra 68 Neuronio [1 1] Classe C\n",
            " Amostra 69 Neuronio [1 1] Classe C\n",
            " Amostra 70 Neuronio [2 0] Classe C\n",
            " Amostra 71 Neuronio [2 1] Classe C\n",
            " Amostra 72 Neuronio [2 0] Classe C\n",
            " Amostra 73 Neuronio [2 0] Classe C\n",
            " Amostra 74 Neuronio [1 1] Classe C\n",
            " Amostra 75 Neuronio [1 0] Classe C\n",
            " Amostra 76 Neuronio [2 0] Classe C\n",
            " Amostra 77 Neuronio [1 1] Classe C\n",
            " Amostra 78 Neuronio [1 1] Classe C\n",
            " Amostra 79 Neuronio [2 0] Classe C\n",
            " Amostra 80 Neuronio [2 0] Classe C\n",
            " Amostra 81 Neuronio [1 1] Classe C\n",
            " Amostra 82 Neuronio [2 0] Classe C\n",
            " Amostra 83 Neuronio [2 1] Classe C\n",
            " Amostra 84 Neuronio [2 0] Classe C\n",
            " Amostra 85 Neuronio [2 1] Classe C\n",
            " Amostra 86 Neuronio [1 1] Classe C\n",
            " Amostra 87 Neuronio [2 0] Classe C\n",
            " Amostra 88 Neuronio [2 0] Classe C\n",
            " Amostra 89 Neuronio [2 1] Classe C\n",
            " Amostra 90 Neuronio [2 1] Classe C\n",
            " Amostra 91 Neuronio [1 1] Classe C\n",
            " Amostra 92 Neuronio [2 1] Classe C\n",
            " Amostra 93 Neuronio [1 1] Classe C\n",
            " Amostra 94 Neuronio [1 0] Classe C\n",
            " Amostra 95 Neuronio [1 1] Classe C\n",
            " Amostra 96 Neuronio [2 0] Classe C\n",
            " Amostra 97 Neuronio [2 0] Classe C\n",
            " Amostra 98 Neuronio [2 0] Classe C\n",
            " Amostra 99 Neuronio [1 1] Classe C\n",
            " Amostra 100 Neuronio [2 1] Classe C\n",
            " Amostra 101 Neuronio [2 1] Classe C\n",
            " Amostra 102 Neuronio [1 0] Classe C\n",
            " Amostra 103 Neuronio [1 1] Classe C\n",
            " Amostra 104 Neuronio [1 0] Classe C\n",
            " Amostra 105 Neuronio [2 1] Classe C\n",
            " Amostra 106 Neuronio [2 0] Classe C\n",
            " Amostra 107 Neuronio [1 0] Classe C\n",
            " Amostra 108 Neuronio [1 1] Classe C\n",
            " Amostra 109 Neuronio [2 1] Classe C\n",
            " Amostra 110 Neuronio [2 0] Classe C\n",
            " Amostra 111 Neuronio [2 0] Classe C\n",
            " Amostra 112 Neuronio [1 0] Classe C\n",
            " Amostra 113 Neuronio [2 0] Classe C\n",
            " Amostra 114 Neuronio [2 1] Classe C\n",
            " Amostra 115 Neuronio [1 1] Classe C\n",
            " Amostra 116 Neuronio [2 0] Classe C\n",
            " Amostra 117 Neuronio [2 0] Classe C\n",
            " Amostra 118 Neuronio [2 0] Classe C\n",
            " Amostra 119 Neuronio [1 1] Classe C\n"
          ],
          "name": "stdout"
        }
      ]
    },
    {
      "cell_type": "code",
      "metadata": {
        "colab": {
          "base_uri": "https://localhost:8080/",
          "height": 0
        },
        "id": "m7Y5x5Otznxp",
        "outputId": "daee70d6-8b52-4e26-9af2-d40187da53ac"
      },
      "source": [
        "#TESTE DOS RESULTADOS\n",
        "for i in range(len(teste)):\n",
        "  exemplo=teste[i,:]\n",
        "  _, resultado = WINNER(exemplo,net)\n",
        "\n",
        "  print(resultado)"
      ],
      "execution_count": 99,
      "outputs": [
        {
          "output_type": "stream",
          "text": [
            "[0 0]\n",
            "[0 2]\n",
            "[1 1]\n",
            "[0 0]\n",
            "[0 2]\n",
            "[2 0]\n",
            "[0 0]\n",
            "[0 2]\n",
            "[1 1]\n",
            "[0 0]\n",
            "[1 2]\n",
            "[2 1]\n"
          ],
          "name": "stdout"
        }
      ]
    },
    {
      "cell_type": "markdown",
      "metadata": {
        "id": "_vU7bmTO1JnQ"
      },
      "source": [
        "\n",
        "# Número do neurônio\n",
        "\n",
        "\n",
        "\n",
        "---\n",
        "\n",
        "\n",
        "\n",
        "*   **[0,0]** = (01)   |   **[0,1]** = (02)  |    **[0,2]** = (03)  |    **[0,3]** = (04) \n",
        "*   **[1,0]** = (05)   |   **[1,1]** = (06)  |    **[1,2]** = (07)  |    **[1,3]** = (08) \n",
        "*   **[2,0]** = (09)   |   **[2,1]** = (10)  |    **[2,2]** = (11)  |    **[2,3]** = (12) \n",
        "*   **[3,0]** = (13)   |   **[3,1]** = (14)  |    **[3,2]** = (15)  |    **[3,3]** = (16) \n",
        "\n",
        "\n",
        "---\n",
        "\n",
        "\n"
      ]
    },
    {
      "cell_type": "markdown",
      "metadata": {
        "id": "6v8BSioo6uTq"
      },
      "source": [
        "1. 0.2471 0.1778 0.2905 CLASSE A Neuronio 1\n",
        "2. 0.8240 0.2223 0.7041 CLASSE B Neuronio 3\n",
        "0.4960 0.7231 0.5866 CLASSE C  Neuronio 6\n",
        "0.2923 0.2041 0.2234 CLASSE A Neuronio 1\n",
        "0.8118 0.2668 0.7484 CLASSE B Neuronio 3\n",
        "0.4837 0.8200 0.4792 CLASSE C Neuronio 9\n",
        "0.3248 0.2629 0.2375 CLASSE A Neuronio 1\n",
        "0.7209 0.2116 0.7821 CLASSE B Neuronio 3\n",
        "0.5259 0.6522 0.5957 CLASSE C Neuronio 6\n",
        "0.2075 0.1669 0.1745 CLASSE A Neuronio 1\n",
        "0.7830 0.3171 0.7888 CLASSE B Neuronio 7\n",
        "0.5393 0.7510 0.5682 CLASSE C Neuronio 10"
      ]
    },
    {
      "cell_type": "code",
      "metadata": {
        "id": "5td8tD1bzPXk"
      },
      "source": [
        ""
      ],
      "execution_count": null,
      "outputs": []
    }
  ]
}
