{
  "nbformat": 4,
  "nbformat_minor": 0,
  "metadata": {
    "colab": {
      "name": "Perceptron.ipynb",
      "provenance": [],
      "collapsed_sections": []
    },
    "kernelspec": {
      "name": "python3",
      "display_name": "Python 3"
    }
  },
  "cells": [
    {
      "cell_type": "code",
      "metadata": {
        "id": "uOY1Nt3sTSZr",
        "colab_type": "code",
        "colab": {}
      },
      "source": [
        "#definição do problema\n",
        "import numpy as np\n",
        "#primeiro elemtento de cada entrada = bias = -1\n",
        "entradas = np.array([ [-1,x,x,x], [-1,x,x,x], [-1,x,x,x], [-1,x,x,x], [-1,x,x,x] ])\n",
        "print(\"as entradas são: \\n\", entradas)\n",
        "saidas = np.array([ s, s, s, s, s])\n",
        "print(\"as saidas são: \\n\", saidas)\n",
        "pesos = np.array([x, x, x, x])\n",
        "print(\"Os pesos são: \\n\", pesos)\n",
        "taxaAprendizagem = 0.01\n",
        "print(\"A taxa de aprendizagem é: \\n\", taxaAprendizagem)\n"
      ],
      "execution_count": null,
      "outputs": []
    },
    {
      "cell_type": "code",
      "metadata": {
        "id": "L9Q5Irk5VXZ8",
        "colab_type": "code",
        "colab": {}
      },
      "source": [
        "def signfunction(soma):\n",
        "    if ( soma >= 0 ):\n",
        "        return 1\n",
        "    else:\n",
        "        return -1"
      ],
      "execution_count": null,
      "outputs": []
    },
    {
      "cell_type": "code",
      "metadata": {
        "id": "yd1B4dR7Va8F",
        "colab_type": "code",
        "colab": {}
      },
      "source": [
        "def calculaSaida(inputs):   #multiplica as entradas pelos pesos, faz a soma e aplica função sinal\n",
        "    s = np.dot(inputs,pesos) # dot faz multiplicão e soma das variaveis\n",
        "    return signfunction(s)"
      ],
      "execution_count": null,
      "outputs": []
    },
    {
      "cell_type": "code",
      "metadata": {
        "id": "kuQn5iHmb4Yx",
        "colab_type": "code",
        "colab": {}
      },
      "source": [
        "i=4\n",
        "s=np.dot(entradas[i], pesos)\n",
        "x=signfunction(s)\n",
        "print(\"a saida desejada era\", saidas[i])\n",
        "print(\"dot product\", s)\n",
        "print(\"saida obtida foi\", x)\n",
        "print(\"entrada\",entradas[i])\n",
        "print(\"pesos\", pesos)\n",
        "print(\"erro\", abs(saidas[i] - x) )"
      ],
      "execution_count": null,
      "outputs": []
    },
    {
      "cell_type": "code",
      "metadata": {
        "id": "juvSoEknVc3u",
        "colab_type": "code",
        "colab": {}
      },
      "source": [
        "def treinar():\n",
        "    erroTotal = 1\n",
        "    n=0\n",
        "    while (erroTotal != 0):\n",
        "        erroTotal = 0\n",
        "        n=n+1\n",
        "        print(\"epoch\",n)\n",
        "        for i in range(len(entradas)):\n",
        "            saidaCalculada = calculaSaida(entradas[i])\n",
        "            erro = saidas[i] - saidaCalculada\n",
        "            if (erro != 0):\n",
        "              erroTotal=erroTotal+1\n",
        "              print(\"Errou na entrada\", i)\n",
        "            \n",
        "            for j in range(len(pesos)):\n",
        "                pesos[j] = pesos[j] + (taxaAprendizagem * entradas[i][j] * erro)\n",
        "        print('Erros acumulados: ' + str(erroTotal))\n"
      ],
      "execution_count": null,
      "outputs": []
    },
    {
      "cell_type": "code",
      "metadata": {
        "id": "k3uUqjg7kbIh",
        "colab_type": "code",
        "colab": {}
      },
      "source": [
        "i=4\n",
        "print(\"i e igual a \", i)\n",
        "print(\"entrada i\", entradas[i])\n",
        "print(\"saida para entrada i\",saidas[i])\n",
        "print(\"Previsão feita saida i\", calculaSaida(entradas[i]))\n"
      ],
      "execution_count": null,
      "outputs": []
    },
    {
      "cell_type": "code",
      "metadata": {
        "id": "BVAnxD16Vj6z",
        "colab_type": "code",
        "colab": {}
      },
      "source": [
        "treinar()\n",
        "print('Rede neural treinada')\n"
      ],
      "execution_count": null,
      "outputs": []
    },
    {
      "cell_type": "code",
      "metadata": {
        "id": "TSSUMwD_rdoD",
        "colab_type": "code",
        "collapsed": true,
        "colab": {
          "base_uri": "https://localhost:8080/",
          "height": 187
        },
        "outputId": "c4b65f24-60a6-42b1-d2f8-07cd3c92fd7a"
      },
      "source": [
        "print(\"saida 1 calculada\", calculaSaida(entradas[0]))\n",
        "print(\"saida 1 Desejada\", saidas[0])\n",
        "print(\"saida 2 calculada\",calculaSaida(entradas[1]))\n",
        "print(\"saida 2 Desejada\", saidas[1])\n",
        "print(\"saida 3 calculada\",calculaSaida(entradas[2]))\n",
        "print(\"saida 3 Desejada\", saidas[2])\n",
        "print(\"saida 4 calculada\",calculaSaida(entradas[3]))\n",
        "print(\"saida 4 Desejada\", saidas[3])\n",
        "print(\"saida 5 calculada\",calculaSaida(entradas[4]))\n",
        "print(\"saida 5 Desejada\", saidas[4])"
      ],
      "execution_count": null,
      "outputs": [
        {
          "output_type": "stream",
          "text": [
            "saida 1 calculada -1\n",
            "saida 1 Desejada -1\n",
            "saida 2 calculada -1\n",
            "saida 2 Desejada -1\n",
            "saida 3 calculada -1\n",
            "saida 3 Desejada -1\n",
            "saida 4 calculada 1\n",
            "saida 4 Desejada 1\n",
            "saida 5 calculada 1\n",
            "saida 5 Desejada 1\n"
          ],
          "name": "stdout"
        }
      ]
    }
  ]
}