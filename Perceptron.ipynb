{
 "cells": [
  {
   "cell_type": "code",
   "execution_count": null,
   "metadata": {
    "id": "uOY1Nt3sTSZr",
    "colab_type": "code",
    "colab": {
     "base_uri": "https://localhost:8080/",
     "height": 221.0
    },
    "outputId": "867106e0-eac4-4496-b6b3-f366e9f11859",
    "collapsed": false
   },
   "outputs": [
    {
     "name": "stdout",
     "output_type": "stream",
     "text": [
      "as entradas são: \n",
      " [[-1  0  1  1]\n",
      " [-1  1  1  1]\n",
      " [-1  1  0  1]\n",
      " [-1  1  1  0]\n",
      " [-1  0  0  0]]\n",
      "as saidas são: \n",
      " [-1 -1 -1  1  1]\n",
      "Os pesos são: \n",
      " [0.07 0.63 0.89 0.27]\n",
      "A taxa de aprendizagem é: \n",
      " 0.01\n"
     ]
    }
   ],
   "source": [
    "#definição do problema\n",
    "import numpy as np\n",
    "#primeiro elemtento de cada entrada = bias = -1\n",
    "entradas = np.array([ [-1,x,x,x], [-1,x,x,x], [-1,x,x,x], [-1,x,x,x], [-1,x,x,x] ])\n",
    "print(\"as entradas são: \\n\", entradas)\n",
    "saidas = np.array([ s, s, s, s, s])\n",
    "print(\"as saidas são: \\n\", saidas)\n",
    "pesos = np.array([x, x, x, x])\n",
    "print(\"Os pesos são: \\n\", pesos)\n",
    "taxaAprendizagem = 0.01\n",
    "print(\"A taxa de aprendizagem é: \\n\", taxaAprendizagem)\n"
   ]
  },
  {
   "cell_type": "code",
   "execution_count": 11,
   "metadata": {
    "id": "L9Q5Irk5VXZ8",
    "colab_type": "code",
    "colab": {}
   },
   "outputs": [],
   "source": [
    "def signfunction(soma):\n",
    "    if ( soma >= 0 ):\n",
    "        return 1\n",
    "    else:\n",
    "        return -1"
   ]
  },
  {
   "cell_type": "code",
   "execution_count": 22,
   "metadata": {
    "id": "yd1B4dR7Va8F",
    "colab_type": "code",
    "colab": {}
   },
   "outputs": [],
   "source": [
    "def calculaSaida(inputs):   #multiplica as entradas pelos pesos, faz a soma e aplica função sinal\n",
    "    s = np.dot(inputs,pesos) # dot faz multiplicão e soma das variaveis\n",
    "    return signfunction(s)"
   ]
  },
  {
   "cell_type": "code",
   "execution_count": 23,
   "metadata": {
    "id": "kuQn5iHmb4Yx",
    "colab_type": "code",
    "colab": {
     "base_uri": "https://localhost:8080/",
     "height": 119.0
    },
    "outputId": "fca2b168-4c57-406c-989c-dc052e439bdd",
    "collapsed": false
   },
   "outputs": [
    {
     "name": "stdout",
     "output_type": "stream",
     "text": [
      "a saida desejada era 1\n",
      "dot product -0.07\n",
      "saida obtida foi -1\n",
      "entrada [-1  0  0  0]\n",
      "pesos [0.07 0.63 0.89 0.27]\n",
      "erro 2\n"
     ]
    }
   ],
   "source": [
    "i=4\n",
    "s=np.dot(entradas[i], pesos)\n",
    "x=signfunction(s)\n",
    "print(\"a saida desejada era\", saidas[i])\n",
    "print(\"dot product\", s)\n",
    "print(\"saida obtida foi\", x)\n",
    "print(\"entrada\",entradas[i])\n",
    "print(\"pesos\", pesos)\n",
    "print(\"erro\", abs(saidas[i] - x) )"
   ]
  },
  {
   "cell_type": "code",
   "execution_count": 26,
   "metadata": {
    "id": "juvSoEknVc3u",
    "colab_type": "code",
    "colab": {}
   },
   "outputs": [],
   "source": [
    "def treinar():\n",
    "    erroTotal = 1\n",
    "    n=0\n",
    "    while (erroTotal != 0):\n",
    "        erroTotal = 0\n",
    "        n=n+1\n",
    "        print(\"epoch\",n)\n",
    "        for i in range(len(entradas)):\n",
    "            saidaCalculada = calculaSaida(entradas[i])\n",
    "            erro = saidas[i] - saidaCalculada\n",
    "            if (erro != 0):\n",
    "              erroTotal=erroTotal+1\n",
    "              print(\"Errou na entrada\", i)\n",
    "            \n",
    "            for j in range(len(pesos)):\n",
    "                pesos[j] = pesos[j] + (taxaAprendizagem * entradas[i][j] * erro)\n",
    "        print('Erros acumulados: ' + str(erroTotal))\n"
   ]
  },
  {
   "cell_type": "code",
   "execution_count": 28,
   "metadata": {
    "id": "k3uUqjg7kbIh",
    "colab_type": "code",
    "colab": {
     "base_uri": "https://localhost:8080/",
     "height": 85.0
    },
    "outputId": "dfb4018a-5f15-46bc-f628-7ac8924dafd9",
    "collapsed": false
   },
   "outputs": [
    {
     "name": "stdout",
     "output_type": "stream",
     "text": [
      "i e igual a  4\n",
      "entrada i [-1  0  0  0]\n",
      "saida para entrada i 1\n",
      "Previsão feita saida i -1\n"
     ]
    }
   ],
   "source": [
    "i=4\n",
    "print(\"i e igual a \", i)\n",
    "print(\"entrada i\", entradas[i])\n",
    "print(\"saida para entrada i\",saidas[i])\n",
    "print(\"Previsão feita saida i\", calculaSaida(entradas[i]))\n"
   ]
  },
  {
   "cell_type": "code",
   "execution_count": 29,
   "metadata": {
    "id": "BVAnxD16Vj6z",
    "colab_type": "code",
    "colab": {
     "base_uri": "https://localhost:8080/",
     "height": 1000.0
    },
    "outputId": "ee86b608-5ebb-4752-8700-fdcbd0fb61e9",
    "collapsed": false
   },
   "outputs": [
    {
     "name": "stdout",
     "output_type": "stream",
     "text": [
      "epoch 1\n",
      "Errou na entrada 0\n",
      "Errou na entrada 1\n",
      "Errou na entrada 2\n",
      "Errou na entrada 4\n",
      "Total de erros: 4\n",
      "epoch 2\n",
      "Errou na entrada 0\n",
      "Errou na entrada 1\n",
      "Errou na entrada 2\n",
      "Errou na entrada 4\n",
      "Total de erros: 4\n",
      "epoch 3\n",
      "Errou na entrada 0\n",
      "Errou na entrada 1\n",
      "Errou na entrada 2\n",
      "Errou na entrada 4\n",
      "Total de erros: 4\n",
      "epoch 4\n",
      "Errou na entrada 0\n",
      "Errou na entrada 1\n",
      "Errou na entrada 2\n",
      "Errou na entrada 4\n",
      "Total de erros: 4\n",
      "epoch 5\n",
      "Errou na entrada 0\n",
      "Errou na entrada 1\n",
      "Errou na entrada 2\n",
      "Errou na entrada 4\n",
      "Total de erros: 4\n",
      "epoch 6\n",
      "Errou na entrada 0\n",
      "Errou na entrada 1\n",
      "Errou na entrada 2\n",
      "Errou na entrada 4\n",
      "Total de erros: 4\n",
      "epoch 7\n",
      "Errou na entrada 0\n",
      "Errou na entrada 1\n",
      "Errou na entrada 4\n",
      "Total de erros: 3\n",
      "epoch 8\n",
      "Errou na entrada 0\n",
      "Errou na entrada 1\n",
      "Errou na entrada 4\n",
      "Total de erros: 3\n",
      "epoch 9\n",
      "Errou na entrada 0\n",
      "Errou na entrada 1\n",
      "Errou na entrada 4\n",
      "Total de erros: 3\n",
      "epoch 10\n",
      "Errou na entrada 1\n",
      "Errou na entrada 4\n",
      "Total de erros: 2\n",
      "epoch 11\n",
      "Errou na entrada 1\n",
      "Errou na entrada 4\n",
      "Total de erros: 2\n",
      "epoch 12\n",
      "Errou na entrada 1\n",
      "Errou na entrada 4\n",
      "Total de erros: 2\n",
      "epoch 13\n",
      "Errou na entrada 1\n",
      "Errou na entrada 4\n",
      "Total de erros: 2\n",
      "epoch 14\n",
      "Errou na entrada 1\n",
      "Errou na entrada 4\n",
      "Total de erros: 2\n",
      "epoch 15\n",
      "Errou na entrada 4\n",
      "Total de erros: 1\n",
      "epoch 16\n",
      "Errou na entrada 4\n",
      "Total de erros: 1\n",
      "epoch 17\n",
      "Errou na entrada 1\n",
      "Errou na entrada 4\n",
      "Total de erros: 2\n",
      "epoch 18\n",
      "Errou na entrada 4\n",
      "Total de erros: 1\n",
      "epoch 19\n",
      "Errou na entrada 4\n",
      "Total de erros: 1\n",
      "epoch 20\n",
      "Errou na entrada 4\n",
      "Total de erros: 1\n",
      "epoch 21\n",
      "Errou na entrada 1\n",
      "Errou na entrada 4\n",
      "Total de erros: 2\n",
      "epoch 22\n",
      "Errou na entrada 4\n",
      "Total de erros: 1\n",
      "epoch 23\n",
      "Errou na entrada 4\n",
      "Total de erros: 1\n",
      "epoch 24\n",
      "Errou na entrada 4\n",
      "Total de erros: 1\n",
      "epoch 25\n",
      "Errou na entrada 1\n",
      "Errou na entrada 4\n",
      "Total de erros: 2\n",
      "epoch 26\n",
      "Errou na entrada 4\n",
      "Total de erros: 1\n",
      "epoch 27\n",
      "Errou na entrada 4\n",
      "Total de erros: 1\n",
      "epoch 28\n",
      "Errou na entrada 4\n",
      "Total de erros: 1\n",
      "epoch 29\n",
      "Errou na entrada 1\n",
      "Errou na entrada 4\n",
      "Total de erros: 2\n",
      "epoch 30\n",
      "Errou na entrada 4\n",
      "Total de erros: 1\n",
      "epoch 31\n",
      "Errou na entrada 4\n",
      "Total de erros: 1\n",
      "epoch 32\n",
      "Errou na entrada 4\n",
      "Total de erros: 1\n",
      "epoch 33\n",
      "Errou na entrada 1\n",
      "Errou na entrada 4\n",
      "Total de erros: 2\n",
      "epoch 34\n",
      "Errou na entrada 4\n",
      "Total de erros: 1\n",
      "epoch 35\n",
      "Errou na entrada 4\n",
      "Total de erros: 1\n",
      "epoch 36\n",
      "Errou na entrada 4\n",
      "Total de erros: 1\n",
      "epoch 37\n",
      "Errou na entrada 1\n",
      "Errou na entrada 4\n",
      "Total de erros: 2\n",
      "epoch 38\n",
      "Errou na entrada 4\n",
      "Total de erros: 1\n",
      "epoch 39\n",
      "Errou na entrada 4\n",
      "Total de erros: 1\n",
      "epoch 40\n",
      "Total de erros: 0\n",
      "Rede neural treinada\n"
     ]
    }
   ],
   "source": [
    "treinar()\n",
    "print('Rede neural treinada')\n"
   ]
  },
  {
   "cell_type": "code",
   "execution_count": 31,
   "metadata": {
    "id": "TSSUMwD_rdoD",
    "colab_type": "code",
    "colab": {
     "base_uri": "https://localhost:8080/",
     "height": 187.0
    },
    "outputId": "c4b65f24-60a6-42b1-d2f8-07cd3c92fd7a",
    "collapsed": true
   },
   "outputs": [
    {
     "name": "stdout",
     "output_type": "stream",
     "text": [
      "saida 1 calculada -1\n",
      "saida 1 Desejada -1\n",
      "saida 2 calculada -1\n",
      "saida 2 Desejada -1\n",
      "saida 3 calculada -1\n",
      "saida 3 Desejada -1\n",
      "saida 4 calculada 1\n",
      "saida 4 Desejada 1\n",
      "saida 5 calculada 1\n",
      "saida 5 Desejada 1\n"
     ]
    }
   ],
   "source": [
    "print(\"saida 1 calculada\", calculaSaida(entradas[0]))\n",
    "print(\"saida 1 Desejada\", saidas[0])\n",
    "print(\"saida 2 calculada\",calculaSaida(entradas[1]))\n",
    "print(\"saida 2 Desejada\", saidas[1])\n",
    "print(\"saida 3 calculada\",calculaSaida(entradas[2]))\n",
    "print(\"saida 3 Desejada\", saidas[2])\n",
    "print(\"saida 4 calculada\",calculaSaida(entradas[3]))\n",
    "print(\"saida 4 Desejada\", saidas[3])\n",
    "print(\"saida 5 calculada\",calculaSaida(entradas[4]))\n",
    "print(\"saida 5 Desejada\", saidas[4])"
   ]
  },
  {
   "cell_type": "code",
   "execution_count": 32,
   "metadata": {
    "id": "ZIC4BrNsrx5Z",
    "colab_type": "code",
    "colab": {
     "base_uri": "https://localhost:8080/",
     "height": 170.0
    },
    "outputId": "5be4c112-e64e-44c7-afbb-bfe096c6fce1",
    "collapsed": true
   },
   "outputs": [
    {
     "name": "stdout",
     "output_type": "stream",
     "text": [
      "[-1  0  1  0]\n",
      "Entrada pertence  classe B \n",
      "\n",
      "[-1  1  0  0]\n",
      "Entrada pertence  classe B \n",
      "\n",
      "[-1  0  0  1]\n",
      "Entrada pertence  classe A \n",
      "\n"
     ]
    }
   ],
   "source": [
    "#Novas classes\n",
    "entradas_novas = np.array([[-1, 0, 1, 0], [-1, 1, 0, 0], [-1, 0, 0, 1] ] )\n",
    "#print(entradas_novas)\n",
    "for i in range(len(entradas_novas)):\n",
    "  saida = calculaSaida(entradas_novas[i])\n",
    "  print(entradas_novas[i])\n",
    "  if (saida==1):\n",
    "    print(\"Entrada pertence  classe B \\n\")\n",
    "  else:\n",
    "    print(\"Entrada pertence  classe A \\n\")\n"
   ]
  }
 ],
 "metadata": {
  "colab": {
   "name": "Copy of Untitled0.ipynb",
   "provenance": [],
   "collapsed_sections": []
  },
  "kernelspec": {
   "name": "python3",
   "display_name": "Python 3"
  }
 },
 "nbformat": 4,
 "nbformat_minor": 0
}
