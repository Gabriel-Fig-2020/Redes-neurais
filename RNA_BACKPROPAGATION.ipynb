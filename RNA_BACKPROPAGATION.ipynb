{
 "cells": [
  {
   "cell_type": "code",
   "execution_count": 575,
   "metadata": {
    "id": "jpQEKCIhThFq"
   },
   "outputs": [],
   "source": [
    "import numpy as np\n",
    "import pandas as pd\n",
    "import matplotlib.pyplot as plt\n"
   ]
  },
  {
   "cell_type": "markdown",
   "metadata": {
    "id": "tpODAZahGsJe"
   },
   "source": [
    ""
   ]
  },
  {
   "cell_type": "markdown",
   "metadata": {
    "id": "4A2rUzclGtkI"
   },
   "source": [
    "# Definição do problema"
   ]
  },
  {
   "cell_type": "markdown",
   "metadata": {
    "id": "_hrX7kj-Ixg0"
   },
   "source": [
    "**Criando os padrões de entrada**\n",
    "Primeiro é gerado aleatoriamente uma matriz de valores (mxn) que representam as entradas da rede neural.\n",
    "\n",
    "Posteriormente criamos o vetor d, que representa os valores de saída da função definida na Figura.\n",
    "\n",
    "![imagem 1.PNG](data:image/png;base64,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)"
   ]
  },
  {
   "cell_type": "markdown",
   "metadata": {
    "id": "xW3abdmmU3rY"
   },
   "source": [
    "**ALterar número de Padrões aqui**"
   ]
  },
  {
   "cell_type": "code",
   "execution_count": 576,
   "metadata": {
    "id": "42FPlF6rQk2r",
    "outputId": "15da8830-8b2b-4fbb-b32b-d196b0b9b3cf",
    "colab": {
     "base_uri": "https://localhost:8080/",
     "height": 141.0
    }
   },
   "outputs": [
    {
     "data": {
      "text/plain": [
       "array([[0.64450875, 0.33435749, 1.44386588],\n",
       "       [0.15400852, 0.9052076 , 1.00757651],\n",
       "       [0.95922273, 0.7611314 , 1.29593264],\n",
       "       ...,\n",
       "       [0.17426429, 0.46600858, 1.19658591],\n",
       "       [1.19027274, 0.0455132 , 0.36625503],\n",
       "       [0.32339786, 0.50166826, 0.64610845]])"
      ]
     },
     "execution_count": 576,
     "metadata": {
      "tags": []
     },
     "output_type": "execute_result"
    }
   ],
   "source": [
    "#criando padrões de entrada - 600 de inicio\n",
    "x=np.random.rand(500,3)\n",
    "x=(np.pi/2)*x\n",
    "x"
   ]
  },
  {
   "cell_type": "code",
   "execution_count": 577,
   "metadata": {
    "id": "VGamFJ8hT8ea",
    "outputId": "986ef118-bf68-4356-a8ff-88a33cebfe74",
    "colab": {
     "base_uri": "https://localhost:8080/",
     "height": 34.0
    }
   },
   "outputs": [
    {
     "data": {
      "text/plain": [
       "(500, 3)"
      ]
     },
     "execution_count": 577,
     "metadata": {
      "tags": []
     },
     "output_type": "execute_result"
    }
   ],
   "source": [
    "#confere o tamanho da matriz gerada\n",
    "x.shape\n",
    "#x[:,0].shape"
   ]
  },
  {
   "cell_type": "code",
   "execution_count": 578,
   "metadata": {
    "id": "COYhJHdqV5zb",
    "outputId": "3c25a3f4-a89c-49db-b3af-b4f117d42e2a",
    "colab": {
     "base_uri": "https://localhost:8080/",
     "height": 34.0
    }
   },
   "outputs": [
    {
     "data": {
      "text/plain": [
       "(500,)"
      ]
     },
     "execution_count": 578,
     "metadata": {
      "tags": []
     },
     "output_type": "execute_result"
    }
   ],
   "source": [
    "#criando nosso \"target\" valor desejado\n",
    "d=1/3*(np.sin(x[:,0])+np.sin(x[:,1])+np.sin(x[:,2]))\n",
    "d.shape"
   ]
  },
  {
   "cell_type": "code",
   "execution_count": 579,
   "metadata": {
    "id": "kVjtgoS-ZWM6",
    "outputId": "aea25bf6-2cda-4bcf-9a88-dfd8f94358b9",
    "colab": {
     "base_uri": "https://localhost:8080/",
     "height": 406.0
    }
   },
   "outputs": [
    {
     "data": {
      "text/html": [
       "<div>\n",
       "<style scoped>\n",
       "    .dataframe tbody tr th:only-of-type {\n",
       "        vertical-align: middle;\n",
       "    }\n",
       "\n",
       "    .dataframe tbody tr th {\n",
       "        vertical-align: top;\n",
       "    }\n",
       "\n",
       "    .dataframe thead th {\n",
       "        text-align: right;\n",
       "    }\n",
       "</style>\n",
       "<table border=\"1\" class=\"dataframe\">\n",
       "  <thead>\n",
       "    <tr style=\"text-align: right;\">\n",
       "      <th></th>\n",
       "      <th>saida</th>\n",
       "    </tr>\n",
       "  </thead>\n",
       "  <tbody>\n",
       "    <tr>\n",
       "      <th>0</th>\n",
       "      <td>0.640308</td>\n",
       "    </tr>\n",
       "    <tr>\n",
       "      <th>1</th>\n",
       "      <td>0.595165</td>\n",
       "    </tr>\n",
       "    <tr>\n",
       "      <th>2</th>\n",
       "      <td>0.823650</td>\n",
       "    </tr>\n",
       "    <tr>\n",
       "      <th>3</th>\n",
       "      <td>0.531444</td>\n",
       "    </tr>\n",
       "    <tr>\n",
       "      <th>4</th>\n",
       "      <td>0.258117</td>\n",
       "    </tr>\n",
       "    <tr>\n",
       "      <th>...</th>\n",
       "      <td>...</td>\n",
       "    </tr>\n",
       "    <tr>\n",
       "      <th>495</th>\n",
       "      <td>0.883065</td>\n",
       "    </tr>\n",
       "    <tr>\n",
       "      <th>496</th>\n",
       "      <td>0.726832</td>\n",
       "    </tr>\n",
       "    <tr>\n",
       "      <th>497</th>\n",
       "      <td>0.517835</td>\n",
       "    </tr>\n",
       "    <tr>\n",
       "      <th>498</th>\n",
       "      <td>0.444030</td>\n",
       "    </tr>\n",
       "    <tr>\n",
       "      <th>499</th>\n",
       "      <td>0.466921</td>\n",
       "    </tr>\n",
       "  </tbody>\n",
       "</table>\n",
       "<p>500 rows × 1 columns</p>\n",
       "</div>"
      ],
      "text/plain": [
       "        saida\n",
       "0    0.640308\n",
       "1    0.595165\n",
       "2    0.823650\n",
       "3    0.531444\n",
       "4    0.258117\n",
       "..        ...\n",
       "495  0.883065\n",
       "496  0.726832\n",
       "497  0.517835\n",
       "498  0.444030\n",
       "499  0.466921\n",
       "\n",
       "[500 rows x 1 columns]"
      ]
     },
     "execution_count": 579,
     "metadata": {
      "tags": []
     },
     "output_type": "execute_result"
    }
   ],
   "source": [
    "#passando para dataframe, formato visual de tabelas\n",
    "df1 = pd.DataFrame(d, columns=['saida'])\n",
    "df1"
   ]
  },
  {
   "cell_type": "code",
   "execution_count": 580,
   "metadata": {
    "id": "xLuzDSAZYizK",
    "outputId": "bfabfe5a-1205-4744-e860-0e2e803fc6d3",
    "colab": {
     "base_uri": "https://localhost:8080/",
     "height": 406.0
    }
   },
   "outputs": [
    {
     "data": {
      "text/html": [
       "<div>\n",
       "<style scoped>\n",
       "    .dataframe tbody tr th:only-of-type {\n",
       "        vertical-align: middle;\n",
       "    }\n",
       "\n",
       "    .dataframe tbody tr th {\n",
       "        vertical-align: top;\n",
       "    }\n",
       "\n",
       "    .dataframe thead th {\n",
       "        text-align: right;\n",
       "    }\n",
       "</style>\n",
       "<table border=\"1\" class=\"dataframe\">\n",
       "  <thead>\n",
       "    <tr style=\"text-align: right;\">\n",
       "      <th></th>\n",
       "      <th>entrada 1</th>\n",
       "      <th>entrada 2</th>\n",
       "      <th>entrada 3</th>\n",
       "    </tr>\n",
       "  </thead>\n",
       "  <tbody>\n",
       "    <tr>\n",
       "      <th>0</th>\n",
       "      <td>0.644509</td>\n",
       "      <td>0.334357</td>\n",
       "      <td>1.443866</td>\n",
       "    </tr>\n",
       "    <tr>\n",
       "      <th>1</th>\n",
       "      <td>0.154009</td>\n",
       "      <td>0.905208</td>\n",
       "      <td>1.007577</td>\n",
       "    </tr>\n",
       "    <tr>\n",
       "      <th>2</th>\n",
       "      <td>0.959223</td>\n",
       "      <td>0.761131</td>\n",
       "      <td>1.295933</td>\n",
       "    </tr>\n",
       "    <tr>\n",
       "      <th>3</th>\n",
       "      <td>0.753201</td>\n",
       "      <td>0.228345</td>\n",
       "      <td>0.753216</td>\n",
       "    </tr>\n",
       "    <tr>\n",
       "      <th>4</th>\n",
       "      <td>0.050018</td>\n",
       "      <td>0.234619</td>\n",
       "      <td>0.514249</td>\n",
       "    </tr>\n",
       "    <tr>\n",
       "      <th>...</th>\n",
       "      <td>...</td>\n",
       "      <td>...</td>\n",
       "      <td>...</td>\n",
       "    </tr>\n",
       "    <tr>\n",
       "      <th>495</th>\n",
       "      <td>1.141596</td>\n",
       "      <td>1.184163</td>\n",
       "      <td>0.950512</td>\n",
       "    </tr>\n",
       "    <tr>\n",
       "      <th>496</th>\n",
       "      <td>0.979494</td>\n",
       "      <td>0.524002</td>\n",
       "      <td>1.015856</td>\n",
       "    </tr>\n",
       "    <tr>\n",
       "      <th>497</th>\n",
       "      <td>0.174264</td>\n",
       "      <td>0.466009</td>\n",
       "      <td>1.196586</td>\n",
       "    </tr>\n",
       "    <tr>\n",
       "      <th>498</th>\n",
       "      <td>1.190273</td>\n",
       "      <td>0.045513</td>\n",
       "      <td>0.366255</td>\n",
       "    </tr>\n",
       "    <tr>\n",
       "      <th>499</th>\n",
       "      <td>0.323398</td>\n",
       "      <td>0.501668</td>\n",
       "      <td>0.646108</td>\n",
       "    </tr>\n",
       "  </tbody>\n",
       "</table>\n",
       "<p>500 rows × 3 columns</p>\n",
       "</div>"
      ],
      "text/plain": [
       "     entrada 1  entrada 2  entrada 3\n",
       "0     0.644509   0.334357   1.443866\n",
       "1     0.154009   0.905208   1.007577\n",
       "2     0.959223   0.761131   1.295933\n",
       "3     0.753201   0.228345   0.753216\n",
       "4     0.050018   0.234619   0.514249\n",
       "..         ...        ...        ...\n",
       "495   1.141596   1.184163   0.950512\n",
       "496   0.979494   0.524002   1.015856\n",
       "497   0.174264   0.466009   1.196586\n",
       "498   1.190273   0.045513   0.366255\n",
       "499   0.323398   0.501668   0.646108\n",
       "\n",
       "[500 rows x 3 columns]"
      ]
     },
     "execution_count": 580,
     "metadata": {
      "tags": []
     },
     "output_type": "execute_result"
    }
   ],
   "source": [
    "#passando para dataframe, formato visual de tabelas\n",
    "df2=pd.DataFrame(x, columns = ['entrada 1', 'entrada 2', 'entrada 3'])\n",
    "df2"
   ]
  },
  {
   "cell_type": "code",
   "execution_count": 581,
   "metadata": {
    "id": "1ImgFTvjZxf9",
    "outputId": "f6fd2ecf-2673-4f2e-c383-4c2181f0e0ed",
    "colab": {
     "base_uri": "https://localhost:8080/",
     "height": 406.0
    }
   },
   "outputs": [
    {
     "data": {
      "text/html": [
       "<div>\n",
       "<style scoped>\n",
       "    .dataframe tbody tr th:only-of-type {\n",
       "        vertical-align: middle;\n",
       "    }\n",
       "\n",
       "    .dataframe tbody tr th {\n",
       "        vertical-align: top;\n",
       "    }\n",
       "\n",
       "    .dataframe thead th {\n",
       "        text-align: right;\n",
       "    }\n",
       "</style>\n",
       "<table border=\"1\" class=\"dataframe\">\n",
       "  <thead>\n",
       "    <tr style=\"text-align: right;\">\n",
       "      <th></th>\n",
       "      <th>entrada 1</th>\n",
       "      <th>entrada 2</th>\n",
       "      <th>entrada 3</th>\n",
       "      <th>saida</th>\n",
       "    </tr>\n",
       "  </thead>\n",
       "  <tbody>\n",
       "    <tr>\n",
       "      <th>0</th>\n",
       "      <td>0.644509</td>\n",
       "      <td>0.334357</td>\n",
       "      <td>1.443866</td>\n",
       "      <td>0.640308</td>\n",
       "    </tr>\n",
       "    <tr>\n",
       "      <th>1</th>\n",
       "      <td>0.154009</td>\n",
       "      <td>0.905208</td>\n",
       "      <td>1.007577</td>\n",
       "      <td>0.595165</td>\n",
       "    </tr>\n",
       "    <tr>\n",
       "      <th>2</th>\n",
       "      <td>0.959223</td>\n",
       "      <td>0.761131</td>\n",
       "      <td>1.295933</td>\n",
       "      <td>0.823650</td>\n",
       "    </tr>\n",
       "    <tr>\n",
       "      <th>3</th>\n",
       "      <td>0.753201</td>\n",
       "      <td>0.228345</td>\n",
       "      <td>0.753216</td>\n",
       "      <td>0.531444</td>\n",
       "    </tr>\n",
       "    <tr>\n",
       "      <th>4</th>\n",
       "      <td>0.050018</td>\n",
       "      <td>0.234619</td>\n",
       "      <td>0.514249</td>\n",
       "      <td>0.258117</td>\n",
       "    </tr>\n",
       "    <tr>\n",
       "      <th>...</th>\n",
       "      <td>...</td>\n",
       "      <td>...</td>\n",
       "      <td>...</td>\n",
       "      <td>...</td>\n",
       "    </tr>\n",
       "    <tr>\n",
       "      <th>495</th>\n",
       "      <td>1.141596</td>\n",
       "      <td>1.184163</td>\n",
       "      <td>0.950512</td>\n",
       "      <td>0.883065</td>\n",
       "    </tr>\n",
       "    <tr>\n",
       "      <th>496</th>\n",
       "      <td>0.979494</td>\n",
       "      <td>0.524002</td>\n",
       "      <td>1.015856</td>\n",
       "      <td>0.726832</td>\n",
       "    </tr>\n",
       "    <tr>\n",
       "      <th>497</th>\n",
       "      <td>0.174264</td>\n",
       "      <td>0.466009</td>\n",
       "      <td>1.196586</td>\n",
       "      <td>0.517835</td>\n",
       "    </tr>\n",
       "    <tr>\n",
       "      <th>498</th>\n",
       "      <td>1.190273</td>\n",
       "      <td>0.045513</td>\n",
       "      <td>0.366255</td>\n",
       "      <td>0.444030</td>\n",
       "    </tr>\n",
       "    <tr>\n",
       "      <th>499</th>\n",
       "      <td>0.323398</td>\n",
       "      <td>0.501668</td>\n",
       "      <td>0.646108</td>\n",
       "      <td>0.466921</td>\n",
       "    </tr>\n",
       "  </tbody>\n",
       "</table>\n",
       "<p>500 rows × 4 columns</p>\n",
       "</div>"
      ],
      "text/plain": [
       "     entrada 1  entrada 2  entrada 3     saida\n",
       "0     0.644509   0.334357   1.443866  0.640308\n",
       "1     0.154009   0.905208   1.007577  0.595165\n",
       "2     0.959223   0.761131   1.295933  0.823650\n",
       "3     0.753201   0.228345   0.753216  0.531444\n",
       "4     0.050018   0.234619   0.514249  0.258117\n",
       "..         ...        ...        ...       ...\n",
       "495   1.141596   1.184163   0.950512  0.883065\n",
       "496   0.979494   0.524002   1.015856  0.726832\n",
       "497   0.174264   0.466009   1.196586  0.517835\n",
       "498   1.190273   0.045513   0.366255  0.444030\n",
       "499   0.323398   0.501668   0.646108  0.466921\n",
       "\n",
       "[500 rows x 4 columns]"
      ]
     },
     "execution_count": 581,
     "metadata": {
      "tags": []
     },
     "output_type": "execute_result"
    }
   ],
   "source": [
    "#Dataframe com dados de entradas e saída\n",
    "df=[df2,df1]\n",
    "df = pd.concat(df, axis=1)\n",
    "df"
   ]
  },
  {
   "cell_type": "code",
   "execution_count": 582,
   "metadata": {
    "id": "PHHJIi8oddw-"
   },
   "outputs": [],
   "source": [
    "#definindo nossas entradas\n",
    "features = ['entrada 1',\t'entrada 2',\t'entrada 3']\n",
    "\n",
    "# Definição da variável-alvo/saída\n",
    "target = [\"saida\"]\n",
    "\n",
    "# Preparação dos argumentos para os métodos da biblioteca ``scikit-learn``, ou seja, separar em treino e teste\n",
    "X = df[features]\n",
    "y = df[target]"
   ]
  },
  {
   "cell_type": "code",
   "execution_count": 583,
   "metadata": {
    "id": "q3O1Kt09cBG8"
   },
   "outputs": [],
   "source": [
    "#separa em treino e teste o dataframe\n",
    "from sklearn.model_selection import train_test_split\n",
    "X_train, X_test, y_train, y_test = train_test_split(X, y, test_size=0.166, random_state=337)"
   ]
  },
  {
   "cell_type": "code",
   "execution_count": 584,
   "metadata": {
    "id": "u--rI0mrdv1-"
   },
   "outputs": [],
   "source": [
    "X_train, X_test, y_train, y_test = X_train.values, X_test.values, y_train.values, y_test.values"
   ]
  },
  {
   "cell_type": "markdown",
   "metadata": {
    "id": "Bg6DtIXZRlsS"
   },
   "source": [
    "Alterar Número de Neurônios da camada escondida aqui"
   ]
  },
  {
   "cell_type": "code",
   "execution_count": 585,
   "metadata": {
    "id": "kRY9zPujcbvH"
   },
   "outputs": [],
   "source": [
    "# número de neurônios da camada escondida\n",
    "nro_N_escond=10\n",
    "# taxa de aprendizagem          \n",
    "neta=0.1\n",
    "#Tolerância erro\t               \n",
    "epsilon=1e-6\n",
    "#  % número de iterações (número de epocas)\n",
    "epocas=0\n",
    "# % valor inicial da variavel eqm_ant              \n",
    "eqm_ant=1     \n",
    "# % valor atual da variavel eqm_ant                \n",
    "eqm_atual=0\n",
    "#numero de entradas da rede\n",
    "nro_entr = X_train.shape[1]\n",
    "#numero de padrões de treino\n",
    "nro_padr=X_train.shape[0]"
   ]
  },
  {
   "cell_type": "code",
   "execution_count": 586,
   "metadata": {
    "id": "iYn1XNnWeprx"
   },
   "outputs": [],
   "source": [
    "# % vetor de pesos iniciais para a camada de saida!\n",
    "w2=np.random.rand(nro_N_escond,1)\n",
    "# % matriz de pesos iniciais para a camada escondida!        \n",
    "w1=np.random.rand(nro_N_escond,nro_entr)\n",
    "# % pesos iniciais para a camada de saida! \n",
    "w02=np.random.rand()\n",
    "# % matriz de pesos iniciais !                     \n",
    "w01=np.random.rand(nro_N_escond,1)\n",
    "dw01=np.random.rand(nro_N_escond,1)"
   ]
  },
  {
   "cell_type": "markdown",
   "metadata": {
    "id": "wvNA9yP2Gz6H"
   },
   "source": [
    ""
   ]
  },
  {
   "cell_type": "markdown",
   "metadata": {
    "id": "J5U8w6LrG05n"
   },
   "source": [
    "# Rede neural -  Treinamento\n",
    "A rede neural criada tem como base a Figura abaixo.\n",
    "\n",
    "Os critérios de paradas definidos dependem do número de épocas ou erro quadrado médio.\n",
    "\n",
    "![imagem 2.PNG](data:image/png;base64,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)"
   ]
  },
  {
   "cell_type": "code",
   "execution_count": 587,
   "metadata": {
    "id": "prdZly80hq5m"
   },
   "outputs": [],
   "source": [
    "#definindo a função de ativação\n",
    "def sigmoid(x):\n",
    "  return 1 / (1 + np.exp(-x))"
   ]
  },
  {
   "cell_type": "code",
   "execution_count": null,
   "metadata": {
    "id": "zjFOxka-gnLg",
    "outputId": "3f250fbd-d273-4f13-fecc-907a254ea82b",
    "colab": {
     "base_uri": "https://localhost:8080/",
     "height": 52.0
    }
   },
   "outputs": [
    {
     "name": "stdout",
     "output_type": "stream",
     "text": [
      "epoca número  50\n",
      "Número de épocas finais 68\n"
     ]
    }
   ],
   "source": [
    "#  inicio estrutura de repetição condicional\n",
    "y1 = np.zeros((nro_N_escond,1))\n",
    "epocas = 0\n",
    "vet_x=[]\t\t            # vetor que armazena os números das epocas\n",
    "vet_y=[]                # vetor que armazena EQM\n",
    "\n",
    "while (abs(eqm_atual-eqm_ant)>epsilon) and (epocas<2000):\n",
    "  epocas+=1 # incrementa a variável \"epocas\" a cada iteração  \n",
    "  if epocas%50 ==0:\n",
    "    print('epoca número ',epocas)\n",
    "  else:\t\n",
    "    pass\t\t\t            \n",
    "  eqm_ant=eqm_atual;\n",
    "  # bias saida\n",
    "  dw2=0;                           \n",
    "  #  vetor de ajuste dos pesos da camada escondida                                       \n",
    "  dw1=np.zeros((nro_N_escond,nro_entr))\n",
    "  #  vetor gradiente local da camada escondida         \n",
    "  grad_N_escond=np.zeros((nro_N_escond,1))\n",
    "  #  início da soma dos eq \n",
    "  soma_eq=0;                                \n",
    "  for n in range(nro_padr):    #  início estrutura de repetição para apresentar os padrões de uma época  \n",
    "    for j in range(nro_N_escond):\n",
    "      x=np.dot(w1[j,:], X_train[n,:])-w01[j]   \n",
    " #início estrutura de repetição para calcular a saida dos neurônios da camad escondida\n",
    "      y1[j]=sigmoid(x)   #  cálculo da saida j-ésimo neurônio da camada escondida      \n",
    "        #% fim repetição para calcular a saida dos neurônios da camad escondida\n",
    "        #y1 contem 10 valores relacionados com os 10 neurônios da entrada para escondida\n",
    "    y2=sigmoid(np.dot(w2.T,y1)-w02)   #  cálculo da saida final da rede    \n",
    "    erro=y_train[n]-y2                # cálculo do erro (d-y2)      \n",
    "    grad_saida=erro*y2*(1-y2)            # cálculo do gradiente local\n",
    "    dw2=neta*grad_saida*y1          #  ajuste dos pesos do neurônio da camada de saida \n",
    "    dw02=neta*grad_saida*(-1)\n",
    "    w2 += dw2                            # ajuste dos pesos da camada de saida\n",
    "    w02 += dw02\n",
    "    soma_eq=soma_eq+0.5*erro**2          #% cálculo do erro quadrático\n",
    "    \n",
    "    for j in range(nro_N_escond):                  # início do ajuste dos pesos camada escondida\n",
    "        grad_N_escond[j]=y1[j]*(1-y1[j])*grad_saida*w2[j]   #  cálculo do gradiente local do j-ésimo neurônio da camada escondida \n",
    "        dw1[j,:]=neta*grad_N_escond[j]*X_train[n,:]    # correção dos pesos do j-ésimo neurônio da camada escondi     \n",
    "        dw01[j]=neta*grad_N_escond[j]*(-1)\n",
    "                                  #% fim darepetição para calcular o ajuste dos pesos camada escondida                       \n",
    "    w1=w1+dw1                            # ajuste de pesos da camada escondida\n",
    "    w01=w01+dw01\n",
    "                                        #% fim da época\n",
    "\n",
    "  eqm=soma_eq/nro_padr;\t                #% calculo do erro quadrático médio em relação à epoca\n",
    "  # print(eqm)\n",
    "  eqm_atual=eqm;                        \n",
    "  # print(eqm)\n",
    "  dif_eqm = eqm_ant-eqm_atual           #% apresenta a diferenças dos eqm das épocas mais recentes\n",
    "\n",
    "  vet_x.append(epocas)\t\t            #% vetor que armazena os números das epocas\n",
    "  vet_y.append(eqm)                  # % vetor que armazena o respectivo valor do erro quadrático\n",
    "print(\"Número de épocas finais\", epocas)                                #% fim da estrutura de repetição condicional \n"
   ]
  },
  {
   "cell_type": "code",
   "execution_count": null,
   "metadata": {
    "id": "g6P_VnVO3ILl"
   },
   "outputs": [],
   "source": [
    "resultados_teste=np.zeros(len(X_test))\n",
    "for n in range(len(X_test)):       # início estrutura de repetição para apresentar os padrões de uma época  \n",
    "    for j in range(nro_N_escond):\n",
    "      x=np.dot(w1[j,:], X_test[n,:])-w01[j]   # início estrutura de repetição para calcular a saida dos neurônios da camad escondida                   \n",
    "      y1[j]=sigmoid(x)   # % cálculo da saida j-ésimo neurônio da camada escondida \n",
    "     \n",
    "        # fim estrutura de repetição para calcular a saida dos neurônios da camad escondida\n",
    "        #y1 contem 10 valores relacionados com os 10 neurônios da entrada para escondida\n",
    "    y2=sigmoid(np.dot(w2.T,y1)-w02) \n",
    "    resultados_teste[n]=y2"
   ]
  },
  {
   "cell_type": "markdown",
   "metadata": {
    "id": "44as0bKuG8YF"
   },
   "source": [
    "# Avaliação e gráficos - Teste com 10 neurônios na Camada Escondida"
   ]
  },
  {
   "cell_type": "code",
   "execution_count": null,
   "metadata": {
    "id": "uD6K7oGDG6Eb"
   },
   "outputs": [],
   "source": [
    "erro_teste = (resultados_teste-y_test.T)\n",
    "MAPE = np.mean(abs(erro_teste/y_test))*100\n",
    "print(\"Mean Absolute Percentage Error\",MAPE)\n",
    "MAD = np.std(abs(erro_teste))\n",
    "print(\"Mean Absolute Deviation\",MAD)"
   ]
  },
  {
   "cell_type": "code",
   "execution_count": null,
   "metadata": {
    "id": "HtuK9kuONCbm"
   },
   "outputs": [],
   "source": [
    "fig, axs = plt.subplots(3, figsize=(10, 10), )\n",
    "fig.suptitle('Gráficos')\n",
    "plt.figure(figsize=(10,10))\n",
    "vet_y = np.array(vet_y).reshape(-1,)\n",
    "axs[0].plot(vet_y, label=\"EQM\")\n",
    "axs[0].legend(loc=\"upper right\")\n",
    "axs[0].grid(True)\n",
    "# set_title('EQM x ÉPOCAS')\n",
    "axs[1].plot(resultados_teste, 'b')\n",
    "axs[1].plot(y_test, 'r', label = ['RNA (azul)','TESTE:  (verm.)' ])\n",
    "axs[1].legend([ 'RNA (azul)','VALORES REAIS'], loc=\"upper right\")\n",
    "axs[1].grid(True)\n",
    "axs[2].plot(np.array(erro_teste).reshape(-1,),label='VALIDAÇÃO: ERRO x PADRÃO')\n",
    "axs[2].legend(loc=\"upper right\")\n",
    "axs[2].grid(True)\n",
    "plt.show()"
   ]
  },
  {
   "cell_type": "markdown",
   "metadata": {
    "id": "rl4QYJQHNvWl"
   },
   "source": [
    "# Comparação dos Resultados\n",
    "10 Neurônios:\n",
    "\n",
    "\n",
    "1.   Mean Absolute Percentage Error 5.95\n",
    "2.   Mean Absolute Deviation 0.025\n",
    "3.   57 Épocas\n",
    "\n",
    "5 Neurônios:\n",
    "\n",
    "\n",
    "1.   Mean Absolute Percentage Error 5.27\n",
    "2.   Mean Absolute Deviation 0.02\n",
    "3.   66 Épocas\n",
    "\n",
    "15 Neurônios:\n",
    "\n",
    "\n",
    "1.   Mean Absolute Percentage Error 5.23\n",
    "2.   Mean Absolute Deviation 0.019\n",
    "3.   59 Épocas\n",
    "\n",
    "30 Neurônios:\n",
    "\n",
    "\n",
    "1.   Mean Absolute Percentage Error 5.50\n",
    "2.   Mean Absolute Deviation 0.022\n",
    "3.   59 Épocas\n",
    "\n",
    "70 Neurônios:\n",
    "\n",
    "\n",
    "1.   Mean Absolute Percentage Error 61.3\n",
    "2.   Mean Absolute Deviation 0.18\n",
    "3.   2 Épocas\n",
    "\n",
    "\n",
    "Com muitos 70 neurônios a rede não aprendeu nada, possivelmente houve uma situação de overfitting\n",
    "\n",
    "\n",
    "**Resultados com 10 Neurônios e aumentando o número de padrões**\n",
    "\n",
    "\n",
    "700 Padrões:\n",
    "\n",
    "\n",
    "1.   Mean Absolute Percentage Error 5.014\n",
    "2.   Mean Absolute Deviation 0.021\n",
    "3.   61 Épocas\n",
    "\n",
    "800 Padrões:\n",
    "\n",
    "\n",
    "1.   Mean Absolute Percentage Error 5.49\n",
    "2.   Mean Absolute Deviation 0.021\n",
    "3.   42 Épocas\n",
    "\n",
    "\n",
    "900 Padrões:\n",
    "\n",
    "\n",
    "1.   Mean Absolute Percentage Error 5.22\n",
    "2.   Mean Absolute Deviation 0.019\n",
    "3.   54 Épocas\n",
    "\n",
    "3000 Padrões:\n",
    "\n",
    "\n",
    "1.   Mean Absolute Percentage Error 1.94\n",
    "2.   Mean Absolute Deviation 0.010\n",
    "3.   166 Épocas\n",
    "\n",
    "\n",
    "**Conclusões**\n",
    "\n",
    "Se houver um aumento significativo de neurônios, em certo ponto a rede deixa de aprender, como podemos observar, com 70 neurônios a rede não aprendeu nada, assim, nem sempre quanto maior o número de neurônios melhor será o resultado, o mais provavel nesse caso é que ocorra overfitting.\n",
    "\n",
    "Com o incremento do número de padrões, a tendência é que a rede aprenda de maneira significativa conforme aumenta o número de padrões de treinamento.\n",
    "Com 3000 exemplos (17% separados para teste), houve uma melhora significativa no aprendizado da rede, chegando à um valor MPE de 1.94%, que inicialmente era de aproximadamente 6%.\n",
    "\n"
   ]
  }
 ],
 "metadata": {
  "colab": {
   "name": "RNA_EPC4_V1.ipynb",
   "provenance": [],
   "collapsed_sections": [],
   "toc_visible": true
  },
  "kernelspec": {
   "name": "python3",
   "display_name": "Python 3"
  }
 },
 "nbformat": 4,
 "nbformat_minor": 0
}
